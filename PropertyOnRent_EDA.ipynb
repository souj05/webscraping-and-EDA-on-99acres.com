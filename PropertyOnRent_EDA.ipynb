{
 "cells": [
  {
   "cell_type": "code",
   "execution_count": 1,
   "metadata": {},
   "outputs": [],
   "source": [
    "import pandas as pd\n",
    "import numpy as np"
   ]
  },
  {
   "cell_type": "code",
   "execution_count": 2,
   "metadata": {},
   "outputs": [],
   "source": [
    "import seaborn as sns\n",
    "import matplotlib.pyplot as plt"
   ]
  },
  {
   "cell_type": "code",
   "execution_count": 3,
   "metadata": {},
   "outputs": [],
   "source": [
    "import warnings\n",
    "warnings.filterwarnings('ignore')"
   ]
  },
  {
   "cell_type": "markdown",
   "metadata": {},
   "source": [
    "# Webscrapping Data"
   ]
  },
  {
   "cell_type": "code",
   "execution_count": 108,
   "metadata": {},
   "outputs": [],
   "source": [
    "import re\n",
    "from bs4 import BeautifulSoup\n",
    "import requests\n",
    "import time"
   ]
  },
  {
   "cell_type": "code",
   "execution_count": 417,
   "metadata": {},
   "outputs": [],
   "source": [
    "Price = []\n",
    "Tenants_Preffered = []\n",
    "Bathroom = []\n",
    "Owner = []\n",
    "Address =[]\n",
    "Info = []\n",
    "PropertyName = []\n",
    "Deposit = []\n",
    "AreaSqMetre = []\n",
    "DealerType = []\n"
   ]
  },
  {
   "cell_type": "code",
   "execution_count": 418,
   "metadata": {},
   "outputs": [
    {
     "name": "stdout",
     "output_type": "stream",
     "text": [
      "Page 1 loads in 0.04686379432678223 seconds\n",
      "Page 2 loads in 0.046863555908203125 seconds\n",
      "Page 3 loads in 0.046896934509277344 seconds\n",
      "Page 4 loads in 0.0624847412109375 seconds\n",
      "Page 5 loads in 0.04686379432678223 seconds\n",
      "Page 6 loads in 0.04686403274536133 seconds\n",
      "Page 7 loads in 0.04686403274536133 seconds\n",
      "Page 8 loads in 0.046863555908203125 seconds\n",
      "Page 9 loads in 0.04686760902404785 seconds\n",
      "Page 10 loads in 0.062483787536621094 seconds\n",
      "Page 11 loads in 0.0624849796295166 seconds\n",
      "Page 12 loads in 0.0624852180480957 seconds\n",
      "Page 13 loads in 0.04686331748962402 seconds\n",
      "Page 14 loads in 0.0468602180480957 seconds\n",
      "Page 15 loads in 0.06248593330383301 seconds\n",
      "Page 16 loads in 0.0624849796295166 seconds\n",
      "Page 17 loads in 0.0624849796295166 seconds\n",
      "Page 18 loads in 0.04686307907104492 seconds\n",
      "Page 19 loads in 0.04686403274536133 seconds\n",
      "Page 20 loads in 0.06286406517028809 seconds\n",
      "Page 21 loads in 0.06248617172241211 seconds\n",
      "Page 22 loads in 0.0624852180480957 seconds\n",
      "Page 23 loads in 0.04686403274536133 seconds\n",
      "Page 24 loads in 0.05524396896362305 seconds\n"
     ]
    }
   ],
   "source": [
    "PageNo = []\n",
    "for r in range(1,25):\n",
    "    url = 'https://www.99acres.com/property-for-rent-in-hyderabad-ffid'\n",
    "    soup = requests.get(url)\n",
    "    soup.status_code\n",
    "    soup = BeautifulSoup(soup.content)\n",
    "    start_time = time.time()\n",
    "    \n",
    "    Property = soup.findAll('table',{'class':\"srpTuple__tupleTable\"})\n",
    "    DealerInfo = soup.findAll('div',{'class':'srpTuple__srpDealerInfo'})\n",
    "    \n",
    "    for x in DealerInfo:\n",
    "        owner = x.find_all('div',{'class':'list_header_semiBold'})\n",
    "        for o in owner:\n",
    "            if o.text is None:\n",
    "                Owner.append(np.nan)\n",
    "            else:\n",
    "                Owner.append(o.text)\n",
    "    \n",
    "        dealer_type =  x.findAll('div',{'class':'caption_strong_small'})\n",
    "        for x in dealer_type:\n",
    "            if x.text is None:\n",
    "                DealerType.append(np.nan)\n",
    "            else:\n",
    "                DealerType.append(x.text)    \n",
    "    \n",
    "    \n",
    "    for x in Property:\n",
    "        info = x.find_all('h2')\n",
    "        propname = x.findAll('td',{'class':'list_header_bold srpTuple__spacer10'})\n",
    "        price = x.findAll('td',{'class':'srpTuple__midGrid title_semiBold srpTuple__spacer16'})\n",
    "        area = re.findall('\\d+ sq\\.m\\.',x.text)\n",
    "        regex = re.findall('FOR SINGLE WOMEN|FOR SINGLE MEN',x.text)\n",
    "    \n",
    "        for i in info:\n",
    "            if i.text is None:\n",
    "                Info.append(np.nan)\n",
    "            else:\n",
    "                Info.append(i.text)\n",
    "            \n",
    "        for p in price:\n",
    "            if p.text is None:\n",
    "                Price.append(np.nan)\n",
    "            else:\n",
    "                Price.append(p.text)        \n",
    "    \n",
    "        for prop in propname:\n",
    "            if prop.text is None:\n",
    "                PropertyName.append(np.nan)\n",
    "            else:\n",
    "                PropertyName.append(prop.text)\n",
    "        \n",
    "        AreaSqMetre.append(area)\n",
    "            \n",
    "        Tenants_Preffered.append(regex)\n",
    "    \n",
    "    \n",
    "        PageNo.append(r)\n",
    "    print('Page {0} loads in {1} seconds'.format(r,time.time()-start_time))"
   ]
  },
  {
   "cell_type": "code",
   "execution_count": 420,
   "metadata": {},
   "outputs": [],
   "source": [
    "Price = Price[::3]            "
   ]
  },
  {
   "cell_type": "code",
   "execution_count": 422,
   "metadata": {},
   "outputs": [
    {
     "data": {
      "text/plain": [
       "624"
      ]
     },
     "execution_count": 422,
     "metadata": {},
     "output_type": "execute_result"
    }
   ],
   "source": [
    "len(Price)"
   ]
  },
  {
   "cell_type": "code",
   "execution_count": 423,
   "metadata": {},
   "outputs": [
    {
     "data": {
      "text/plain": [
       "624"
      ]
     },
     "execution_count": 423,
     "metadata": {},
     "output_type": "execute_result"
    }
   ],
   "source": [
    "len(Info)"
   ]
  },
  {
   "cell_type": "code",
   "execution_count": 424,
   "metadata": {},
   "outputs": [
    {
     "data": {
      "text/plain": [
       "624"
      ]
     },
     "execution_count": 424,
     "metadata": {},
     "output_type": "execute_result"
    }
   ],
   "source": [
    "len(AreaSqMetre)"
   ]
  },
  {
   "cell_type": "code",
   "execution_count": 425,
   "metadata": {},
   "outputs": [
    {
     "data": {
      "text/plain": [
       "624"
      ]
     },
     "execution_count": 425,
     "metadata": {},
     "output_type": "execute_result"
    }
   ],
   "source": [
    "len(PropertyName)"
   ]
  },
  {
   "cell_type": "code",
   "execution_count": 426,
   "metadata": {},
   "outputs": [
    {
     "data": {
      "text/plain": [
       "624"
      ]
     },
     "execution_count": 426,
     "metadata": {},
     "output_type": "execute_result"
    }
   ],
   "source": [
    "len(Owner)"
   ]
  },
  {
   "cell_type": "code",
   "execution_count": 427,
   "metadata": {},
   "outputs": [
    {
     "data": {
      "text/plain": [
       "624"
      ]
     },
     "execution_count": 427,
     "metadata": {},
     "output_type": "execute_result"
    }
   ],
   "source": [
    "len(DealerType)"
   ]
  },
  {
   "cell_type": "code",
   "execution_count": 493,
   "metadata": {},
   "outputs": [],
   "source": [
    "Property_df = pd.DataFrame({'Info':Info, 'PropertyName':PropertyName, 'AreaSqMetre':AreaSqMetre, 'Price':Price ,'Tenants_Preffered':Tenants_Preffered, 'Owner':Owner,'DealerType':DealerType})"
   ]
  },
  {
   "cell_type": "code",
   "execution_count": 494,
   "metadata": {},
   "outputs": [],
   "source": [
    "#BHK\n",
    "Property_df['BHK'] = Property_df['Info'].apply(lambda x : re.findall('[0-9]',x))"
   ]
  },
  {
   "cell_type": "code",
   "execution_count": 495,
   "metadata": {},
   "outputs": [],
   "source": [
    "#Type\n",
    "Property_df['Type'] = Property_df['Info'].apply(lambda x : re.findall('Independent [A-z]+|Residential [A-z]+',x))"
   ]
  },
  {
   "cell_type": "code",
   "execution_count": 496,
   "metadata": {},
   "outputs": [
    {
     "data": {
      "text/html": [
       "<div>\n",
       "<style scoped>\n",
       "    .dataframe tbody tr th:only-of-type {\n",
       "        vertical-align: middle;\n",
       "    }\n",
       "\n",
       "    .dataframe tbody tr th {\n",
       "        vertical-align: top;\n",
       "    }\n",
       "\n",
       "    .dataframe thead th {\n",
       "        text-align: right;\n",
       "    }\n",
       "</style>\n",
       "<table border=\"1\" class=\"dataframe\">\n",
       "  <thead>\n",
       "    <tr style=\"text-align: right;\">\n",
       "      <th></th>\n",
       "      <th>Info</th>\n",
       "      <th>PropertyName</th>\n",
       "      <th>AreaSqMetre</th>\n",
       "      <th>Price</th>\n",
       "      <th>Tenants_Preffered</th>\n",
       "      <th>Owner</th>\n",
       "      <th>DealerType</th>\n",
       "      <th>BHK</th>\n",
       "      <th>Type</th>\n",
       "    </tr>\n",
       "  </thead>\n",
       "  <tbody>\n",
       "    <tr>\n",
       "      <th>0</th>\n",
       "      <td>2 Bedroom Independent House for rent in Gowlid...</td>\n",
       "      <td>Nestaway-156240</td>\n",
       "      <td>[74 sq.m.]</td>\n",
       "      <td>₹ 20,000 /monthDeposit ₹ 20000</td>\n",
       "      <td>[FOR SINGLE MEN, FOR SINGLE WOMEN]</td>\n",
       "      <td>Nestaway Technologies Pvt Ltd</td>\n",
       "      <td>Posted on 11th Mar, 2021 by Dealer</td>\n",
       "      <td>[2]</td>\n",
       "      <td>[Independent House]</td>\n",
       "    </tr>\n",
       "    <tr>\n",
       "      <th>1</th>\n",
       "      <td>3 BHK Residential Apartment for rent in Gachib...</td>\n",
       "      <td>Gayathri Nest</td>\n",
       "      <td>[204 sq.m.]</td>\n",
       "      <td>₹ 28,000 /monthDeposit ₹ 28000</td>\n",
       "      <td>[FOR SINGLE WOMEN]</td>\n",
       "      <td>subhash reddy</td>\n",
       "      <td>Posted on Yesterday by Owner</td>\n",
       "      <td>[3]</td>\n",
       "      <td>[Residential Apartment]</td>\n",
       "    </tr>\n",
       "    <tr>\n",
       "      <th>2</th>\n",
       "      <td>3 BHK Residential Apartment for rent in Gachib...</td>\n",
       "      <td>My Home Vihanga</td>\n",
       "      <td>[170 sq.m.]</td>\n",
       "      <td>₹ 38,000 /monthDeposit ₹ 80000</td>\n",
       "      <td>[]</td>\n",
       "      <td>KMGandhi</td>\n",
       "      <td>Posted on Yesterday by Owner</td>\n",
       "      <td>[3]</td>\n",
       "      <td>[Residential Apartment]</td>\n",
       "    </tr>\n",
       "    <tr>\n",
       "      <th>3</th>\n",
       "      <td>3 BHK Residential Apartment for rent in Kondapur</td>\n",
       "      <td>Sri Venkateswara Chaturbhuja Homes</td>\n",
       "      <td>[169 sq.m.]</td>\n",
       "      <td>₹ 32,000 /month</td>\n",
       "      <td>[]</td>\n",
       "      <td>praveen</td>\n",
       "      <td>Posted on Yesterday by Owner</td>\n",
       "      <td>[3]</td>\n",
       "      <td>[Residential Apartment]</td>\n",
       "    </tr>\n",
       "    <tr>\n",
       "      <th>4</th>\n",
       "      <td>3 BHK Residential Apartment for rent in Madhapur</td>\n",
       "      <td>Sahiti Sri Vidhya Ambrosia</td>\n",
       "      <td>[169 sq.m.]</td>\n",
       "      <td>₹ 50,000 /month</td>\n",
       "      <td>[]</td>\n",
       "      <td>Mahesh</td>\n",
       "      <td>Posted on 16th Apr, 2021 by Owner</td>\n",
       "      <td>[3]</td>\n",
       "      <td>[Residential Apartment]</td>\n",
       "    </tr>\n",
       "  </tbody>\n",
       "</table>\n",
       "</div>"
      ],
      "text/plain": [
       "                                                Info  \\\n",
       "0  2 Bedroom Independent House for rent in Gowlid...   \n",
       "1  3 BHK Residential Apartment for rent in Gachib...   \n",
       "2  3 BHK Residential Apartment for rent in Gachib...   \n",
       "3   3 BHK Residential Apartment for rent in Kondapur   \n",
       "4   3 BHK Residential Apartment for rent in Madhapur   \n",
       "\n",
       "                         PropertyName  AreaSqMetre  \\\n",
       "0                     Nestaway-156240   [74 sq.m.]   \n",
       "1                       Gayathri Nest  [204 sq.m.]   \n",
       "2                     My Home Vihanga  [170 sq.m.]   \n",
       "3  Sri Venkateswara Chaturbhuja Homes  [169 sq.m.]   \n",
       "4          Sahiti Sri Vidhya Ambrosia  [169 sq.m.]   \n",
       "\n",
       "                            Price                   Tenants_Preffered  \\\n",
       "0  ₹ 20,000 /monthDeposit ₹ 20000  [FOR SINGLE MEN, FOR SINGLE WOMEN]   \n",
       "1  ₹ 28,000 /monthDeposit ₹ 28000                  [FOR SINGLE WOMEN]   \n",
       "2  ₹ 38,000 /monthDeposit ₹ 80000                                  []   \n",
       "3                 ₹ 32,000 /month                                  []   \n",
       "4                 ₹ 50,000 /month                                  []   \n",
       "\n",
       "                           Owner                          DealerType  BHK  \\\n",
       "0  Nestaway Technologies Pvt Ltd  Posted on 11th Mar, 2021 by Dealer  [2]   \n",
       "1                  subhash reddy        Posted on Yesterday by Owner  [3]   \n",
       "2                       KMGandhi        Posted on Yesterday by Owner  [3]   \n",
       "3                        praveen        Posted on Yesterday by Owner  [3]   \n",
       "4                         Mahesh   Posted on 16th Apr, 2021 by Owner  [3]   \n",
       "\n",
       "                      Type  \n",
       "0      [Independent House]  \n",
       "1  [Residential Apartment]  \n",
       "2  [Residential Apartment]  \n",
       "3  [Residential Apartment]  \n",
       "4  [Residential Apartment]  "
      ]
     },
     "execution_count": 496,
     "metadata": {},
     "output_type": "execute_result"
    }
   ],
   "source": [
    "Property_df.head()"
   ]
  },
  {
   "cell_type": "code",
   "execution_count": 2,
   "metadata": {},
   "outputs": [
    {
     "ename": "NameError",
     "evalue": "name 'Property_df' is not defined",
     "output_type": "error",
     "traceback": [
      "\u001b[1;31m---------------------------------------------------------------------------\u001b[0m",
      "\u001b[1;31mNameError\u001b[0m                                 Traceback (most recent call last)",
      "\u001b[1;32m~\\AppData\\Local\\Temp/ipykernel_6436/2435215884.py\u001b[0m in \u001b[0;36m<module>\u001b[1;34m\u001b[0m\n\u001b[1;32m----> 1\u001b[1;33m \u001b[0mProperty_df\u001b[0m\u001b[1;33m[\u001b[0m\u001b[1;34m'Area'\u001b[0m\u001b[1;33m]\u001b[0m \u001b[1;33m=\u001b[0m \u001b[0mProperty_df\u001b[0m\u001b[1;33m[\u001b[0m\u001b[1;34m'Info'\u001b[0m\u001b[1;33m]\u001b[0m\u001b[1;33m.\u001b[0m\u001b[0mapply\u001b[0m\u001b[1;33m(\u001b[0m\u001b[1;32mlambda\u001b[0m \u001b[0mx\u001b[0m \u001b[1;33m:\u001b[0m \u001b[0mre\u001b[0m\u001b[1;33m.\u001b[0m\u001b[0mfindall\u001b[0m\u001b[1;33m(\u001b[0m\u001b[1;34m'[A-z][a-z]+$'\u001b[0m\u001b[1;33m,\u001b[0m\u001b[0mx\u001b[0m\u001b[1;33m)\u001b[0m\u001b[1;33m)\u001b[0m\u001b[1;33m\u001b[0m\u001b[1;33m\u001b[0m\u001b[0m\n\u001b[0m\u001b[0;32m      2\u001b[0m \u001b[1;33m\u001b[0m\u001b[0m\n\u001b[0;32m      3\u001b[0m \u001b[0mProperty_df\u001b[0m\u001b[1;33m[\u001b[0m\u001b[1;34m'Area'\u001b[0m\u001b[1;33m]\u001b[0m \u001b[1;33m=\u001b[0m \u001b[0mProperty_df\u001b[0m\u001b[1;33m[\u001b[0m\u001b[1;34m'Area'\u001b[0m\u001b[1;33m]\u001b[0m\u001b[1;33m.\u001b[0m\u001b[0mapply\u001b[0m\u001b[1;33m(\u001b[0m\u001b[1;32mlambda\u001b[0m \u001b[0mx\u001b[0m \u001b[1;33m:\u001b[0m \u001b[1;34m''\u001b[0m\u001b[1;33m.\u001b[0m\u001b[0mjoin\u001b[0m\u001b[1;33m(\u001b[0m\u001b[0mx\u001b[0m\u001b[1;33m)\u001b[0m\u001b[1;33m)\u001b[0m\u001b[1;33m\u001b[0m\u001b[1;33m\u001b[0m\u001b[0m\n\u001b[0;32m      4\u001b[0m \u001b[1;33m\u001b[0m\u001b[0m\n\u001b[0;32m      5\u001b[0m \u001b[0mProperty_df\u001b[0m\u001b[1;33m[\u001b[0m\u001b[1;34m'Area'\u001b[0m\u001b[1;33m]\u001b[0m \u001b[1;33m=\u001b[0m \u001b[0mProperty_df\u001b[0m\u001b[1;33m[\u001b[0m\u001b[1;34m'Area'\u001b[0m\u001b[1;33m]\u001b[0m\u001b[1;33m.\u001b[0m\u001b[0mreplace\u001b[0m\u001b[1;33m(\u001b[0m\u001b[1;34m'Hills'\u001b[0m\u001b[1;33m,\u001b[0m\u001b[1;34m'Lanco Hills'\u001b[0m\u001b[1;33m)\u001b[0m\u001b[1;33m\u001b[0m\u001b[1;33m\u001b[0m\u001b[0m\n",
      "\u001b[1;31mNameError\u001b[0m: name 'Property_df' is not defined"
     ]
    }
   ],
   "source": [
    "Property_df['Area'] = Property_df['Info'].apply(lambda x : re.findall('[A-z][a-z]+$',x))\n",
    "\n",
    "Property_df['Area'] = Property_df['Area'].apply(lambda x : ''.join(x))\n",
    "\n",
    "Property_df['Area'] = Property_df['Area'].replace('Hills','Lanco Hills')\n",
    "\n",
    "Property_df['Area'] = Property_df['Area'].replace('Nagar','Pragathi Nagar')\n",
    "\n",
    "Property_df['Area'] = Property_df['Area'].replace('nagar','Sai Nagar')\n",
    "\n",
    "Property_df['Area'] = Property_df['Area'].replace('office','RTO Office')\n",
    "\n",
    "Property_df['Area'] = Property_df['Area'].replace('City','Hitech City')\n",
    "\n",
    "Property_df['Area'] = Property_df['Area'].replace('Junction','Appa Junction')\n",
    "\n",
    "Property_df['Area'] = Property_df['Area'].replace('hitechcity','Hitech City')\n",
    "\n",
    "Property_df['Area'] = Property_df['Area'].replace('kokapet','Kokapet')\n",
    "\n",
    "Property_df['Area'] = Property_df['Area'].replace('','BHEL')"
   ]
  },
  {
   "cell_type": "code",
   "execution_count": 26,
   "metadata": {},
   "outputs": [
    {
     "data": {
      "text/plain": [
       "Kokapet           96\n",
       "Kondapur          72\n",
       "Pragathi Nagar    72\n",
       "Gachibowli        48\n",
       "Madhapur          48\n",
       "Hitech City       48\n",
       "Puppalaguda       24\n",
       "Lanco Hills       24\n",
       "Sai Nagar         24\n",
       "Gandipet          24\n",
       "Ameerpet          24\n",
       "BHEL              24\n",
       "Gowlidoddy        24\n",
       "Appa Junction     24\n",
       "RTO Office        24\n",
       "Name: Area, dtype: int64"
      ]
     },
     "execution_count": 26,
     "metadata": {},
     "output_type": "execute_result"
    }
   ],
   "source": [
    "Property_df['Area'].value_counts()"
   ]
  },
  {
   "cell_type": "code",
   "execution_count": 509,
   "metadata": {},
   "outputs": [
    {
     "data": {
      "text/html": [
       "<div>\n",
       "<style scoped>\n",
       "    .dataframe tbody tr th:only-of-type {\n",
       "        vertical-align: middle;\n",
       "    }\n",
       "\n",
       "    .dataframe tbody tr th {\n",
       "        vertical-align: top;\n",
       "    }\n",
       "\n",
       "    .dataframe thead th {\n",
       "        text-align: right;\n",
       "    }\n",
       "</style>\n",
       "<table border=\"1\" class=\"dataframe\">\n",
       "  <thead>\n",
       "    <tr style=\"text-align: right;\">\n",
       "      <th></th>\n",
       "      <th>Info</th>\n",
       "      <th>PropertyName</th>\n",
       "      <th>AreaSqMetre</th>\n",
       "      <th>Price</th>\n",
       "      <th>Tenants_Preffered</th>\n",
       "      <th>Owner</th>\n",
       "      <th>DealerType</th>\n",
       "      <th>BHK</th>\n",
       "      <th>Type</th>\n",
       "      <th>Area</th>\n",
       "    </tr>\n",
       "  </thead>\n",
       "  <tbody>\n",
       "    <tr>\n",
       "      <th>0</th>\n",
       "      <td>2 Bedroom Independent House for rent in Gowlid...</td>\n",
       "      <td>Nestaway-156240</td>\n",
       "      <td>[74 sq.m.]</td>\n",
       "      <td>₹ 20,000 /monthDeposit ₹ 20000</td>\n",
       "      <td>[FOR SINGLE MEN, FOR SINGLE WOMEN]</td>\n",
       "      <td>Nestaway Technologies Pvt Ltd</td>\n",
       "      <td>Posted on 11th Mar, 2021 by Dealer</td>\n",
       "      <td>[2]</td>\n",
       "      <td>[Independent House]</td>\n",
       "      <td>Gowlidoddy</td>\n",
       "    </tr>\n",
       "    <tr>\n",
       "      <th>1</th>\n",
       "      <td>3 BHK Residential Apartment for rent in Gachib...</td>\n",
       "      <td>Gayathri Nest</td>\n",
       "      <td>[204 sq.m.]</td>\n",
       "      <td>₹ 28,000 /monthDeposit ₹ 28000</td>\n",
       "      <td>[FOR SINGLE WOMEN]</td>\n",
       "      <td>subhash reddy</td>\n",
       "      <td>Posted on Yesterday by Owner</td>\n",
       "      <td>[3]</td>\n",
       "      <td>[Residential Apartment]</td>\n",
       "      <td>Gachibowli</td>\n",
       "    </tr>\n",
       "    <tr>\n",
       "      <th>2</th>\n",
       "      <td>3 BHK Residential Apartment for rent in Gachib...</td>\n",
       "      <td>My Home Vihanga</td>\n",
       "      <td>[170 sq.m.]</td>\n",
       "      <td>₹ 38,000 /monthDeposit ₹ 80000</td>\n",
       "      <td>[]</td>\n",
       "      <td>KMGandhi</td>\n",
       "      <td>Posted on Yesterday by Owner</td>\n",
       "      <td>[3]</td>\n",
       "      <td>[Residential Apartment]</td>\n",
       "      <td>Gachibowli</td>\n",
       "    </tr>\n",
       "    <tr>\n",
       "      <th>3</th>\n",
       "      <td>3 BHK Residential Apartment for rent in Kondapur</td>\n",
       "      <td>Sri Venkateswara Chaturbhuja Homes</td>\n",
       "      <td>[169 sq.m.]</td>\n",
       "      <td>₹ 32,000 /month</td>\n",
       "      <td>[]</td>\n",
       "      <td>praveen</td>\n",
       "      <td>Posted on Yesterday by Owner</td>\n",
       "      <td>[3]</td>\n",
       "      <td>[Residential Apartment]</td>\n",
       "      <td>Kondapur</td>\n",
       "    </tr>\n",
       "    <tr>\n",
       "      <th>4</th>\n",
       "      <td>3 BHK Residential Apartment for rent in Madhapur</td>\n",
       "      <td>Sahiti Sri Vidhya Ambrosia</td>\n",
       "      <td>[169 sq.m.]</td>\n",
       "      <td>₹ 50,000 /month</td>\n",
       "      <td>[]</td>\n",
       "      <td>Mahesh</td>\n",
       "      <td>Posted on 16th Apr, 2021 by Owner</td>\n",
       "      <td>[3]</td>\n",
       "      <td>[Residential Apartment]</td>\n",
       "      <td>Madhapur</td>\n",
       "    </tr>\n",
       "  </tbody>\n",
       "</table>\n",
       "</div>"
      ],
      "text/plain": [
       "                                                Info  \\\n",
       "0  2 Bedroom Independent House for rent in Gowlid...   \n",
       "1  3 BHK Residential Apartment for rent in Gachib...   \n",
       "2  3 BHK Residential Apartment for rent in Gachib...   \n",
       "3   3 BHK Residential Apartment for rent in Kondapur   \n",
       "4   3 BHK Residential Apartment for rent in Madhapur   \n",
       "\n",
       "                         PropertyName  AreaSqMetre  \\\n",
       "0                     Nestaway-156240   [74 sq.m.]   \n",
       "1                       Gayathri Nest  [204 sq.m.]   \n",
       "2                     My Home Vihanga  [170 sq.m.]   \n",
       "3  Sri Venkateswara Chaturbhuja Homes  [169 sq.m.]   \n",
       "4          Sahiti Sri Vidhya Ambrosia  [169 sq.m.]   \n",
       "\n",
       "                            Price                   Tenants_Preffered  \\\n",
       "0  ₹ 20,000 /monthDeposit ₹ 20000  [FOR SINGLE MEN, FOR SINGLE WOMEN]   \n",
       "1  ₹ 28,000 /monthDeposit ₹ 28000                  [FOR SINGLE WOMEN]   \n",
       "2  ₹ 38,000 /monthDeposit ₹ 80000                                  []   \n",
       "3                 ₹ 32,000 /month                                  []   \n",
       "4                 ₹ 50,000 /month                                  []   \n",
       "\n",
       "                           Owner                          DealerType  BHK  \\\n",
       "0  Nestaway Technologies Pvt Ltd  Posted on 11th Mar, 2021 by Dealer  [2]   \n",
       "1                  subhash reddy        Posted on Yesterday by Owner  [3]   \n",
       "2                       KMGandhi        Posted on Yesterday by Owner  [3]   \n",
       "3                        praveen        Posted on Yesterday by Owner  [3]   \n",
       "4                         Mahesh   Posted on 16th Apr, 2021 by Owner  [3]   \n",
       "\n",
       "                      Type        Area  \n",
       "0      [Independent House]  Gowlidoddy  \n",
       "1  [Residential Apartment]  Gachibowli  \n",
       "2  [Residential Apartment]  Gachibowli  \n",
       "3  [Residential Apartment]    Kondapur  \n",
       "4  [Residential Apartment]    Madhapur  "
      ]
     },
     "execution_count": 509,
     "metadata": {},
     "output_type": "execute_result"
    }
   ],
   "source": [
    "Property_df.head()"
   ]
  },
  {
   "cell_type": "code",
   "execution_count": 510,
   "metadata": {},
   "outputs": [],
   "source": [
    "Property_df['Price'] = Property_df['Price'].apply(lambda x : re.findall('[0-9]+,[0-9]+',x))\n",
    "\n",
    "Property_df['Price'] = Property_df['Price'].apply(lambda x : ''.join(x))\n",
    "\n",
    "Property_df['Price'] = Property_df['Price'].str.replace(',','')"
   ]
  },
  {
   "cell_type": "code",
   "execution_count": null,
   "metadata": {},
   "outputs": [],
   "source": [
    "Property_df['Deposit'] = [re.findall('[0-9]{5,}|[0-9] month',x) for x in Price]"
   ]
  },
  {
   "cell_type": "code",
   "execution_count": 528,
   "metadata": {},
   "outputs": [],
   "source": [
    "Property_df['Deposit'] = Property_df['Deposit'].apply(lambda x : ''.join(x))\n",
    "Property_df['AreaSqMetre'] = Property_df['AreaSqMetre'].apply(lambda x : ''.join(x))\n",
    "Property_df['Tenants_Preffered'] = Property_df['Tenants_Preffered'].apply(lambda x : ''.join(x))\n",
    "Property_df['BHK'] = Property_df['BHK'].apply(lambda x : ''.join(x))\n",
    "Property_df['Type'] = Property_df['Type'].apply(lambda x : ''.join(x))\n",
    "Property_df['DealerType'] = Property_df['DealerType'].apply(lambda x : ''.join(x))"
   ]
  },
  {
   "cell_type": "code",
   "execution_count": 536,
   "metadata": {},
   "outputs": [
    {
     "data": {
      "text/html": [
       "<div>\n",
       "<style scoped>\n",
       "    .dataframe tbody tr th:only-of-type {\n",
       "        vertical-align: middle;\n",
       "    }\n",
       "\n",
       "    .dataframe tbody tr th {\n",
       "        vertical-align: top;\n",
       "    }\n",
       "\n",
       "    .dataframe thead th {\n",
       "        text-align: right;\n",
       "    }\n",
       "</style>\n",
       "<table border=\"1\" class=\"dataframe\">\n",
       "  <thead>\n",
       "    <tr style=\"text-align: right;\">\n",
       "      <th></th>\n",
       "      <th>Info</th>\n",
       "      <th>PropertyName</th>\n",
       "      <th>AreaSqMetre</th>\n",
       "      <th>Price</th>\n",
       "      <th>Tenants_Preffered</th>\n",
       "      <th>Owner</th>\n",
       "      <th>DealerType</th>\n",
       "      <th>BHK</th>\n",
       "      <th>Type</th>\n",
       "      <th>Area</th>\n",
       "      <th>Deposit</th>\n",
       "    </tr>\n",
       "  </thead>\n",
       "  <tbody>\n",
       "    <tr>\n",
       "      <th>0</th>\n",
       "      <td>2 Bedroom Independent House for rent in Gowlid...</td>\n",
       "      <td>Nestaway-156240</td>\n",
       "      <td>74</td>\n",
       "      <td>20000</td>\n",
       "      <td>FOR SINGLE MEN,WOMEN</td>\n",
       "      <td>Nestaway Technologies Pvt Ltd</td>\n",
       "      <td>Dealer</td>\n",
       "      <td>2</td>\n",
       "      <td>Independent House</td>\n",
       "      <td>Gowlidoddy</td>\n",
       "      <td>20000</td>\n",
       "    </tr>\n",
       "    <tr>\n",
       "      <th>1</th>\n",
       "      <td>3 BHK Residential Apartment for rent in Gachib...</td>\n",
       "      <td>Gayathri Nest</td>\n",
       "      <td>204</td>\n",
       "      <td>28000</td>\n",
       "      <td>FOR SINGLE WOMEN</td>\n",
       "      <td>subhash reddy</td>\n",
       "      <td>Owner</td>\n",
       "      <td>3</td>\n",
       "      <td>Residential Apartment</td>\n",
       "      <td>Gachibowli</td>\n",
       "      <td>28000</td>\n",
       "    </tr>\n",
       "    <tr>\n",
       "      <th>2</th>\n",
       "      <td>3 BHK Residential Apartment for rent in Gachib...</td>\n",
       "      <td>My Home Vihanga</td>\n",
       "      <td>170</td>\n",
       "      <td>38000</td>\n",
       "      <td>ANYONE</td>\n",
       "      <td>KMGandhi</td>\n",
       "      <td>Owner</td>\n",
       "      <td>3</td>\n",
       "      <td>Residential Apartment</td>\n",
       "      <td>Gachibowli</td>\n",
       "      <td>80000</td>\n",
       "    </tr>\n",
       "    <tr>\n",
       "      <th>3</th>\n",
       "      <td>3 BHK Residential Apartment for rent in Kondapur</td>\n",
       "      <td>Sri Venkateswara Chaturbhuja Homes</td>\n",
       "      <td>169</td>\n",
       "      <td>32000</td>\n",
       "      <td>ANYONE</td>\n",
       "      <td>praveen</td>\n",
       "      <td>Owner</td>\n",
       "      <td>3</td>\n",
       "      <td>Residential Apartment</td>\n",
       "      <td>Kondapur</td>\n",
       "      <td></td>\n",
       "    </tr>\n",
       "    <tr>\n",
       "      <th>4</th>\n",
       "      <td>3 BHK Residential Apartment for rent in Madhapur</td>\n",
       "      <td>Sahiti Sri Vidhya Ambrosia</td>\n",
       "      <td>169</td>\n",
       "      <td>50000</td>\n",
       "      <td>ANYONE</td>\n",
       "      <td>Mahesh</td>\n",
       "      <td>Owner</td>\n",
       "      <td>3</td>\n",
       "      <td>Residential Apartment</td>\n",
       "      <td>Madhapur</td>\n",
       "      <td></td>\n",
       "    </tr>\n",
       "  </tbody>\n",
       "</table>\n",
       "</div>"
      ],
      "text/plain": [
       "                                                Info  \\\n",
       "0  2 Bedroom Independent House for rent in Gowlid...   \n",
       "1  3 BHK Residential Apartment for rent in Gachib...   \n",
       "2  3 BHK Residential Apartment for rent in Gachib...   \n",
       "3   3 BHK Residential Apartment for rent in Kondapur   \n",
       "4   3 BHK Residential Apartment for rent in Madhapur   \n",
       "\n",
       "                         PropertyName AreaSqMetre  Price  \\\n",
       "0                     Nestaway-156240          74  20000   \n",
       "1                       Gayathri Nest         204  28000   \n",
       "2                     My Home Vihanga         170  38000   \n",
       "3  Sri Venkateswara Chaturbhuja Homes         169  32000   \n",
       "4          Sahiti Sri Vidhya Ambrosia         169  50000   \n",
       "\n",
       "      Tenants_Preffered                          Owner DealerType BHK  \\\n",
       "0  FOR SINGLE MEN,WOMEN  Nestaway Technologies Pvt Ltd     Dealer   2   \n",
       "1      FOR SINGLE WOMEN                  subhash reddy      Owner   3   \n",
       "2                ANYONE                       KMGandhi      Owner   3   \n",
       "3                ANYONE                        praveen      Owner   3   \n",
       "4                ANYONE                         Mahesh      Owner   3   \n",
       "\n",
       "                    Type        Area Deposit  \n",
       "0      Independent House  Gowlidoddy   20000  \n",
       "1  Residential Apartment  Gachibowli   28000  \n",
       "2  Residential Apartment  Gachibowli   80000  \n",
       "3  Residential Apartment    Kondapur          \n",
       "4  Residential Apartment    Madhapur          "
      ]
     },
     "execution_count": 536,
     "metadata": {},
     "output_type": "execute_result"
    }
   ],
   "source": [
    "Property_df.head()"
   ]
  },
  {
   "cell_type": "code",
   "execution_count": 114,
   "metadata": {},
   "outputs": [],
   "source": [
    "Property_df['Tenants_Preffered'] = Property_df['Tenants_Preffered'].replace('FOR SINGLE MEN,WOMEN','ANYONE')\n",
    "Property_df['Tenants_Preffered'] = Property_df['Tenants_Preffered'].replace('','ANYONE')\n",
    "Property_df['Tenants_Preffered'] = Property_df['Tenants_Preffered'].replace('FOR SINGLE WOMEN','WOMEN')"
   ]
  },
  {
   "cell_type": "code",
   "execution_count": 532,
   "metadata": {},
   "outputs": [],
   "source": [
    "Property_df['DealerType'] = Property_df['DealerType'].apply(lambda x : re.findall('Dealer|Owner',x))"
   ]
  },
  {
   "cell_type": "code",
   "execution_count": null,
   "metadata": {},
   "outputs": [],
   "source": [
    "Property_df['AreaSqMetre'] = Property_df['AreaSqMetre'].apply(lambda x : re.findall('[0-9]+',x))"
   ]
  },
  {
   "cell_type": "code",
   "execution_count": 25,
   "metadata": {},
   "outputs": [],
   "source": [
    "Property_df.to_csv('C:\\\\Users\\welcome\\Data Science\\Python\\Data\\Property_df.csv')"
   ]
  },
  {
   "cell_type": "code",
   "execution_count": 21,
   "metadata": {},
   "outputs": [],
   "source": [
    "Property_df['Price'] = Property_df['Price'].astype('int64')"
   ]
  },
  {
   "cell_type": "code",
   "execution_count": 19,
   "metadata": {},
   "outputs": [],
   "source": [
    "Property_df.dropna(subset =['Price'],inplace =True)"
   ]
  },
  {
   "cell_type": "code",
   "execution_count": 35,
   "metadata": {},
   "outputs": [],
   "source": [
    "Property_df['Deposit'].fillna('none',inplace = True)"
   ]
  },
  {
   "cell_type": "code",
   "execution_count": 15,
   "metadata": {},
   "outputs": [],
   "source": [
    "for x in range(len(Property_df)):\n",
    "    if Property_df.loc[x,'Deposit'] == '2 month':\n",
    "        Property_df.loc[x,'Deposit'] = 2 * Property_df.loc[x,'Price']\n",
    "    elif Property_df.loc[x,'Deposit'] == '3 month':\n",
    "        Property_df.loc[x,'Deposit'] = 3 * Property_df.loc[x,'Price']"
   ]
  },
  {
   "cell_type": "code",
   "execution_count": 16,
   "metadata": {},
   "outputs": [
    {
     "data": {
      "text/plain": [
       "none      120\n",
       "80000      48\n",
       "55000      48\n",
       "80000      48\n",
       "170000     24\n",
       "20000      24\n",
       "45000      24\n",
       "28000      24\n",
       "100000     24\n",
       "30000      24\n",
       "148000     24\n",
       "54000      24\n",
       "60000      24\n",
       "56000      24\n",
       "100000     24\n",
       "70000      24\n",
       "62000      24\n",
       "146000     24\n",
       "Name: Deposit, dtype: int64"
      ]
     },
     "execution_count": 16,
     "metadata": {},
     "output_type": "execute_result"
    }
   ],
   "source": [
    "Property_df['Deposit'].value_counts()"
   ]
  },
  {
   "cell_type": "code",
   "execution_count": 23,
   "metadata": {},
   "outputs": [
    {
     "data": {
      "text/html": [
       "<div>\n",
       "<style scoped>\n",
       "    .dataframe tbody tr th:only-of-type {\n",
       "        vertical-align: middle;\n",
       "    }\n",
       "\n",
       "    .dataframe tbody tr th {\n",
       "        vertical-align: top;\n",
       "    }\n",
       "\n",
       "    .dataframe thead th {\n",
       "        text-align: right;\n",
       "    }\n",
       "</style>\n",
       "<table border=\"1\" class=\"dataframe\">\n",
       "  <thead>\n",
       "    <tr style=\"text-align: right;\">\n",
       "      <th></th>\n",
       "      <th>Info</th>\n",
       "      <th>PropertyName</th>\n",
       "      <th>AreaSqMetre</th>\n",
       "      <th>Price</th>\n",
       "      <th>Tenants_Preffered</th>\n",
       "      <th>Owner</th>\n",
       "      <th>DealerType</th>\n",
       "      <th>BHK</th>\n",
       "      <th>Type</th>\n",
       "      <th>Area</th>\n",
       "      <th>Deposit</th>\n",
       "    </tr>\n",
       "  </thead>\n",
       "  <tbody>\n",
       "    <tr>\n",
       "      <th>0</th>\n",
       "      <td>2 Bedroom Independent House for rent in Gowlid...</td>\n",
       "      <td>Nestaway-156240</td>\n",
       "      <td>74</td>\n",
       "      <td>20000</td>\n",
       "      <td>ANYONE</td>\n",
       "      <td>Nestaway Technologies Pvt Ltd</td>\n",
       "      <td>Dealer</td>\n",
       "      <td>2</td>\n",
       "      <td>Independent House</td>\n",
       "      <td>Gowlidoddy</td>\n",
       "      <td>20000</td>\n",
       "    </tr>\n",
       "    <tr>\n",
       "      <th>1</th>\n",
       "      <td>3 BHK Residential Apartment for rent in Gachib...</td>\n",
       "      <td>Gayathri Nest</td>\n",
       "      <td>204</td>\n",
       "      <td>28000</td>\n",
       "      <td>WOMEN</td>\n",
       "      <td>subhash reddy</td>\n",
       "      <td>Owner</td>\n",
       "      <td>3</td>\n",
       "      <td>Residential Apartment</td>\n",
       "      <td>Gachibowli</td>\n",
       "      <td>28000</td>\n",
       "    </tr>\n",
       "    <tr>\n",
       "      <th>2</th>\n",
       "      <td>3 BHK Residential Apartment for rent in Gachib...</td>\n",
       "      <td>My Home Vihanga</td>\n",
       "      <td>170</td>\n",
       "      <td>38000</td>\n",
       "      <td>ANYONE</td>\n",
       "      <td>KMGandhi</td>\n",
       "      <td>Owner</td>\n",
       "      <td>3</td>\n",
       "      <td>Residential Apartment</td>\n",
       "      <td>Gachibowli</td>\n",
       "      <td>80000</td>\n",
       "    </tr>\n",
       "    <tr>\n",
       "      <th>3</th>\n",
       "      <td>3 BHK Residential Apartment for rent in Kondapur</td>\n",
       "      <td>Sri Venkateswara Chaturbhuja Homes</td>\n",
       "      <td>169</td>\n",
       "      <td>32000</td>\n",
       "      <td>ANYONE</td>\n",
       "      <td>praveen</td>\n",
       "      <td>Owner</td>\n",
       "      <td>3</td>\n",
       "      <td>Residential Apartment</td>\n",
       "      <td>Kondapur</td>\n",
       "      <td>none</td>\n",
       "    </tr>\n",
       "    <tr>\n",
       "      <th>4</th>\n",
       "      <td>3 BHK Residential Apartment for rent in Madhapur</td>\n",
       "      <td>Sahiti Sri Vidhya Ambrosia</td>\n",
       "      <td>169</td>\n",
       "      <td>50000</td>\n",
       "      <td>ANYONE</td>\n",
       "      <td>Mahesh</td>\n",
       "      <td>Owner</td>\n",
       "      <td>3</td>\n",
       "      <td>Residential Apartment</td>\n",
       "      <td>Madhapur</td>\n",
       "      <td>none</td>\n",
       "    </tr>\n",
       "  </tbody>\n",
       "</table>\n",
       "</div>"
      ],
      "text/plain": [
       "                                                Info  \\\n",
       "0  2 Bedroom Independent House for rent in Gowlid...   \n",
       "1  3 BHK Residential Apartment for rent in Gachib...   \n",
       "2  3 BHK Residential Apartment for rent in Gachib...   \n",
       "3   3 BHK Residential Apartment for rent in Kondapur   \n",
       "4   3 BHK Residential Apartment for rent in Madhapur   \n",
       "\n",
       "                         PropertyName  AreaSqMetre  Price Tenants_Preffered  \\\n",
       "0                     Nestaway-156240           74  20000            ANYONE   \n",
       "1                       Gayathri Nest          204  28000             WOMEN   \n",
       "2                     My Home Vihanga          170  38000            ANYONE   \n",
       "3  Sri Venkateswara Chaturbhuja Homes          169  32000            ANYONE   \n",
       "4          Sahiti Sri Vidhya Ambrosia          169  50000            ANYONE   \n",
       "\n",
       "                           Owner DealerType  BHK                   Type  \\\n",
       "0  Nestaway Technologies Pvt Ltd     Dealer    2      Independent House   \n",
       "1                  subhash reddy      Owner    3  Residential Apartment   \n",
       "2                       KMGandhi      Owner    3  Residential Apartment   \n",
       "3                        praveen      Owner    3  Residential Apartment   \n",
       "4                         Mahesh      Owner    3  Residential Apartment   \n",
       "\n",
       "         Area Deposit  \n",
       "0  Gowlidoddy   20000  \n",
       "1  Gachibowli   28000  \n",
       "2  Gachibowli   80000  \n",
       "3    Kondapur    none  \n",
       "4    Madhapur    none  "
      ]
     },
     "execution_count": 23,
     "metadata": {},
     "output_type": "execute_result"
    }
   ],
   "source": [
    "Property_df.head()"
   ]
  },
  {
   "cell_type": "code",
   "execution_count": 4,
   "metadata": {},
   "outputs": [],
   "source": [
    "Property_df = pd.read_csv('C:\\\\Users\\welcome\\Data Science\\Python\\Data\\Property_df.csv')"
   ]
  },
  {
   "cell_type": "markdown",
   "metadata": {},
   "source": [
    "# Data Analysis"
   ]
  },
  {
   "cell_type": "code",
   "execution_count": 14,
   "metadata": {},
   "outputs": [
    {
     "data": {
      "text/plain": [
       "Info                  0\n",
       "PropertyName         48\n",
       "AreaSqMetre           0\n",
       "Price                 0\n",
       "Tenants_Preffered     0\n",
       "Owner                 0\n",
       "DealerType            0\n",
       "BHK                   0\n",
       "Type                  0\n",
       "Area                  0\n",
       "Deposit               0\n",
       "dtype: int64"
      ]
     },
     "execution_count": 14,
     "metadata": {},
     "output_type": "execute_result"
    }
   ],
   "source": [
    "#Null values\n",
    "\n",
    "Property_df.isnull().sum()"
   ]
  },
  {
   "cell_type": "markdown",
   "metadata": {},
   "source": [
    "## Univariate Analysis"
   ]
  },
  {
   "cell_type": "code",
   "execution_count": 27,
   "metadata": {},
   "outputs": [
    {
     "data": {
      "text/plain": [
       "Text(0.5, 1.0, 'Price Distribution')"
      ]
     },
     "execution_count": 27,
     "metadata": {},
     "output_type": "execute_result"
    },
    {
     "data": {
      "image/png": "[encoded data removed]",
      "text/plain": [
       "<Figure size 432x288 with 1 Axes>"
      ]
     },
     "metadata": {
      "needs_background": "light"
     },
     "output_type": "display_data"
    }
   ],
   "source": [
    "sns.distplot(Property_df['Price']).set_title('Price Distribution')"
   ]
  },
  {
   "cell_type": "markdown",
   "metadata": {},
   "source": [
    "As you can see Prices of Homes is maximum in between 10,000 and 50,000"
   ]
  },
  {
   "cell_type": "code",
   "execution_count": 28,
   "metadata": {},
   "outputs": [
    {
     "data": {
      "text/plain": [
       "(0.0, 6.0)"
      ]
     },
     "execution_count": 28,
     "metadata": {},
     "output_type": "execute_result"
    },
    {
     "data": {
      "image/png": "[encoded data removed]",
      "text/plain": [
       "<Figure size 432x288 with 1 Axes>"
      ]
     },
     "metadata": {
      "needs_background": "light"
     },
     "output_type": "display_data"
    }
   ],
   "source": [
    "sns.distplot(Property_df['BHK']).set_title('List of BHK Distribution')\n",
    "plt.xlim(0,6)"
   ]
  },
  {
   "cell_type": "markdown",
   "metadata": {},
   "source": [
    "As you can see, we have more data  2,3 and 4 BHK Homes "
   ]
  },
  {
   "cell_type": "code",
   "execution_count": 26,
   "metadata": {},
   "outputs": [
    {
     "data": {
      "text/plain": [
       "Text(0.5, 1.0, 'Percentage of Owners and Dealers')"
      ]
     },
     "execution_count": 26,
     "metadata": {},
     "output_type": "execute_result"
    },
    {
     "data": {
      "image/png": "[encoded data removed]",
      "text/plain": [
       "<Figure size 432x288 with 1 Axes>"
      ]
     },
     "metadata": {},
     "output_type": "display_data"
    }
   ],
   "source": [
    "Property_df['DealerType'].value_counts().plot.pie(autopct ='%0.0f%%').set_title('Percentage of Owners and Dealers')"
   ]
  },
  {
   "cell_type": "markdown",
   "metadata": {},
   "source": [
    "There are only 28% of homes available as owner registered on website."
   ]
  },
  {
   "cell_type": "markdown",
   "metadata": {},
   "source": [
    "## Bivariate Analysis"
   ]
  },
  {
   "cell_type": "code",
   "execution_count": 39,
   "metadata": {},
   "outputs": [
    {
     "data": {
      "text/plain": [
       "0.8573097212967771"
      ]
     },
     "execution_count": 39,
     "metadata": {},
     "output_type": "execute_result"
    }
   ],
   "source": [
    "### Price Vs Area correlation\n",
    "\n",
    "Property_df['Price'].corr(Property_df['AreaSqMetre'])"
   ]
  },
  {
   "cell_type": "code",
   "execution_count": 42,
   "metadata": {},
   "outputs": [
    {
     "data": {
      "text/plain": [
       "Text(0.5, 1.0, 'Price Vs Area')"
      ]
     },
     "execution_count": 42,
     "metadata": {},
     "output_type": "execute_result"
    },
    {
     "data": {
      "image/png": "[encoded data removed]",
      "text/plain": [
       "<Figure size 432x288 with 1 Axes>"
      ]
     },
     "metadata": {
      "needs_background": "light"
     },
     "output_type": "display_data"
    }
   ],
   "source": [
    "sns.scatterplot(Property_df['Price'],Property_df['AreaSqMetre']).set_title('Price Vs Area')"
   ]
  },
  {
   "cell_type": "markdown",
   "metadata": {},
   "source": [
    "From the above graph, as you can see Price of homes and Area per sq metre are strongly correlated"
   ]
  },
  {
   "cell_type": "markdown",
   "metadata": {},
   "source": [
    "### Price Vs BHK correlation"
   ]
  },
  {
   "cell_type": "code",
   "execution_count": 71,
   "metadata": {},
   "outputs": [
    {
     "data": {
      "text/plain": [
       "0.7127048485054979"
      ]
     },
     "execution_count": 71,
     "metadata": {},
     "output_type": "execute_result"
    }
   ],
   "source": [
    "Property_df['Price'].corr(Property_df['BHK'])"
   ]
  },
  {
   "cell_type": "code",
   "execution_count": 80,
   "metadata": {},
   "outputs": [
    {
     "data": {
      "image/png": "[encoded data removed]",
      "text/plain": [
       "<Figure size 432x288 with 1 Axes>"
      ]
     },
     "metadata": {
      "needs_background": "light"
     },
     "output_type": "display_data"
    }
   ],
   "source": [
    "sns.scatterplot(Property_df['Price'],Property_df['BHK']).set_title('Price Vs BHK')\n",
    "plt.ylim(0,5)\n",
    "plt.show()"
   ]
  },
  {
   "cell_type": "markdown",
   "metadata": {},
   "source": [
    "As you see Prices of homes and Rooms of homes are also strongly correlated"
   ]
  },
  {
   "cell_type": "markdown",
   "metadata": {},
   "source": [
    "## 2 BHK Homes "
   ]
  },
  {
   "cell_type": "code",
   "execution_count": 6,
   "metadata": {},
   "outputs": [],
   "source": [
    "Property_df1 = Property_df.loc[Property_df['BHK'] == 2]"
   ]
  },
  {
   "cell_type": "markdown",
   "metadata": {},
   "source": [
    "### Prices of 2 BHK Homes"
   ]
  },
  {
   "cell_type": "code",
   "execution_count": 46,
   "metadata": {},
   "outputs": [
    {
     "data": {
      "image/png": "[encoded data removed]",
      "text/plain": [
       "<Figure size 432x288 with 1 Axes>"
      ]
     },
     "metadata": {
      "needs_background": "light"
     },
     "output_type": "display_data"
    }
   ],
   "source": [
    "sns.boxplot(x = Property_df1['Area'], y = Property_df1['Price'], hue = Property_df1['BHK']).set_title('Prices of 2 BHK Homes')\n",
    "plt.xticks(rotation = 90)\n",
    "plt.show()"
   ]
  },
  {
   "cell_type": "markdown",
   "metadata": {},
   "source": [
    "2BHK Homes are available only in Gowlidoddy, Pragathi Nagar, BHEL, Ameerpet,\n",
    "in which Gowlidoddy prices are very high while Ameerpet and BHEL have less prices"
   ]
  },
  {
   "cell_type": "markdown",
   "metadata": {},
   "source": [
    "### Available Types of Homes"
   ]
  },
  {
   "cell_type": "code",
   "execution_count": 48,
   "metadata": {},
   "outputs": [
    {
     "data": {
      "image/png": "[encoded data removed]",
      "text/plain": [
       "<Figure size 432x288 with 1 Axes>"
      ]
     },
     "metadata": {
      "needs_background": "light"
     },
     "output_type": "display_data"
    }
   ],
   "source": [
    "sns.boxplot(x = Property_df1['Type'], y = Property_df1['Price'], hue = Property_df1['BHK']).set_title('Available Types of Homes')\n",
    "plt.xticks(rotation = 90)\n",
    "plt.show()"
   ]
  },
  {
   "cell_type": "markdown",
   "metadata": {},
   "source": [
    "In this data, we have three home types : Independent House, Independent Builder, Residential Apartment. Independent House have higher prices while Independent Builder have  less and then Residential Apartment have lowest"
   ]
  },
  {
   "cell_type": "markdown",
   "metadata": {},
   "source": [
    "### Price of Area in Average Sq. metres"
   ]
  },
  {
   "cell_type": "code",
   "execution_count": 7,
   "metadata": {},
   "outputs": [
    {
     "data": {
      "text/html": [
       "<div>\n",
       "<style scoped>\n",
       "    .dataframe tbody tr th:only-of-type {\n",
       "        vertical-align: middle;\n",
       "    }\n",
       "\n",
       "    .dataframe tbody tr th {\n",
       "        vertical-align: top;\n",
       "    }\n",
       "\n",
       "    .dataframe thead th {\n",
       "        text-align: right;\n",
       "    }\n",
       "</style>\n",
       "<table border=\"1\" class=\"dataframe\">\n",
       "  <thead>\n",
       "    <tr style=\"text-align: right;\">\n",
       "      <th></th>\n",
       "      <th>Price</th>\n",
       "      <th>AreaSqMetre</th>\n",
       "    </tr>\n",
       "    <tr>\n",
       "      <th>Area</th>\n",
       "      <th></th>\n",
       "      <th></th>\n",
       "    </tr>\n",
       "  </thead>\n",
       "  <tbody>\n",
       "    <tr>\n",
       "      <th>Ameerpet</th>\n",
       "      <td>11000</td>\n",
       "      <td>93</td>\n",
       "    </tr>\n",
       "    <tr>\n",
       "      <th>BHEL</th>\n",
       "      <td>11000</td>\n",
       "      <td>111</td>\n",
       "    </tr>\n",
       "    <tr>\n",
       "      <th>Gowlidoddy</th>\n",
       "      <td>20000</td>\n",
       "      <td>74</td>\n",
       "    </tr>\n",
       "    <tr>\n",
       "      <th>Pragathi Nagar</th>\n",
       "      <td>15000</td>\n",
       "      <td>93</td>\n",
       "    </tr>\n",
       "  </tbody>\n",
       "</table>\n",
       "</div>"
      ],
      "text/plain": [
       "                Price  AreaSqMetre\n",
       "Area                              \n",
       "Ameerpet        11000           93\n",
       "BHEL            11000          111\n",
       "Gowlidoddy      20000           74\n",
       "Pragathi Nagar  15000           93"
      ]
     },
     "execution_count": 7,
     "metadata": {},
     "output_type": "execute_result"
    }
   ],
   "source": [
    "Property_df1.groupby(by ='Area')['Price','AreaSqMetre'].mean()"
   ]
  },
  {
   "cell_type": "code",
   "execution_count": 49,
   "metadata": {},
   "outputs": [
    {
     "data": {
      "image/png": "[encoded data removed]",
      "text/plain": [
       "<Figure size 432x288 with 1 Axes>"
      ]
     },
     "metadata": {
      "needs_background": "light"
     },
     "output_type": "display_data"
    }
   ],
   "source": [
    "sns.barplot(x = Property_df1['Area'], y = Property_df1['Price'], hue = Property_df1['AreaSqMetre']).set_title('Price of Area in Average Sq. metres')\n",
    "plt.xticks(rotation = 90)\n",
    "plt.show()"
   ]
  },
  {
   "cell_type": "markdown",
   "metadata": {},
   "source": [
    "As you see, despite Gowlidoddy having highest Price for 2BHK homes, their Area per sq. metre is very low as compared to others. While BHEL have low prices and high Area per sq.m  and Pragathi Nagar have same Area as Ameerpet but Prices of Pragathi Nagar are high"
   ]
  },
  {
   "cell_type": "markdown",
   "metadata": {},
   "source": [
    "### Availability of Homes for Women Only"
   ]
  },
  {
   "cell_type": "code",
   "execution_count": 11,
   "metadata": {},
   "outputs": [],
   "source": [
    "Property_df2 = Property_df.loc[Property_df['Tenants_Preffered'] =='WOMEN']"
   ]
  },
  {
   "cell_type": "code",
   "execution_count": 121,
   "metadata": {},
   "outputs": [
    {
     "data": {
      "text/html": [
       "<div>\n",
       "<style scoped>\n",
       "    .dataframe tbody tr th:only-of-type {\n",
       "        vertical-align: middle;\n",
       "    }\n",
       "\n",
       "    .dataframe tbody tr th {\n",
       "        vertical-align: top;\n",
       "    }\n",
       "\n",
       "    .dataframe thead th {\n",
       "        text-align: right;\n",
       "    }\n",
       "</style>\n",
       "<table border=\"1\" class=\"dataframe\">\n",
       "  <thead>\n",
       "    <tr style=\"text-align: right;\">\n",
       "      <th>Area</th>\n",
       "      <th>Gachibowli</th>\n",
       "      <th>Puppalaguda</th>\n",
       "    </tr>\n",
       "    <tr>\n",
       "      <th>Tenants_Preffered</th>\n",
       "      <th></th>\n",
       "      <th></th>\n",
       "    </tr>\n",
       "  </thead>\n",
       "  <tbody>\n",
       "    <tr>\n",
       "      <th>WOMEN</th>\n",
       "      <td>24</td>\n",
       "      <td>24</td>\n",
       "    </tr>\n",
       "  </tbody>\n",
       "</table>\n",
       "</div>"
      ],
      "text/plain": [
       "Area               Gachibowli  Puppalaguda\n",
       "Tenants_Preffered                         \n",
       "WOMEN                      24           24"
      ]
     },
     "execution_count": 121,
     "metadata": {},
     "output_type": "execute_result"
    }
   ],
   "source": [
    "pd.crosstab(index = Property_df2['Tenants_Preffered'], columns = Property_df2['Area'])"
   ]
  },
  {
   "cell_type": "code",
   "execution_count": 13,
   "metadata": {},
   "outputs": [
    {
     "data": {
      "image/png": "[encoded data removed]",
      "text/plain": [
       "<Figure size 432x288 with 1 Axes>"
      ]
     },
     "metadata": {
      "needs_background": "light"
     },
     "output_type": "display_data"
    }
   ],
   "source": [
    "pd.crosstab(index = Property_df2['Tenants_Preffered'] , columns = Property_df2['Area']).plot.bar().set_title('Availability of Homes for Women Only')\n",
    "plt.xticks(rotation = 90)\n",
    "plt.ylabel('No of Homes Available')\n",
    "plt.show()"
   ]
  },
  {
   "cell_type": "markdown",
   "metadata": {},
   "source": [
    "There are only two areas where Owners of home preferred Womens only rent policy : Gachibowli and Puppalaguda and same no of homes available in both areas "
   ]
  },
  {
   "cell_type": "markdown",
   "metadata": {},
   "source": [
    "### Range of Price"
   ]
  },
  {
   "cell_type": "code",
   "execution_count": 15,
   "metadata": {},
   "outputs": [],
   "source": [
    "#For Middle Class Customer(1,2 BHK)\n",
    "\n",
    "Property_df3 = Property_df.loc[(Property_df['Price'] <= 15000) & (Property_df['Price'] >= 10000)]"
   ]
  },
  {
   "cell_type": "code",
   "execution_count": 16,
   "metadata": {},
   "outputs": [
    {
     "data": {
      "text/html": [
       "<div>\n",
       "<style scoped>\n",
       "    .dataframe tbody tr th:only-of-type {\n",
       "        vertical-align: middle;\n",
       "    }\n",
       "\n",
       "    .dataframe tbody tr th {\n",
       "        vertical-align: top;\n",
       "    }\n",
       "\n",
       "    .dataframe thead th {\n",
       "        text-align: right;\n",
       "    }\n",
       "</style>\n",
       "<table border=\"1\" class=\"dataframe\">\n",
       "  <thead>\n",
       "    <tr style=\"text-align: right;\">\n",
       "      <th></th>\n",
       "      <th>Price</th>\n",
       "      <th>BHK</th>\n",
       "    </tr>\n",
       "    <tr>\n",
       "      <th>Area</th>\n",
       "      <th></th>\n",
       "      <th></th>\n",
       "    </tr>\n",
       "  </thead>\n",
       "  <tbody>\n",
       "    <tr>\n",
       "      <th>Ameerpet</th>\n",
       "      <td>11000</td>\n",
       "      <td>2</td>\n",
       "    </tr>\n",
       "    <tr>\n",
       "      <th>BHEL</th>\n",
       "      <td>11000</td>\n",
       "      <td>2</td>\n",
       "    </tr>\n",
       "    <tr>\n",
       "      <th>Kondapur</th>\n",
       "      <td>12000</td>\n",
       "      <td>1</td>\n",
       "    </tr>\n",
       "    <tr>\n",
       "      <th>Pragathi Nagar</th>\n",
       "      <td>15000</td>\n",
       "      <td>2</td>\n",
       "    </tr>\n",
       "  </tbody>\n",
       "</table>\n",
       "</div>"
      ],
      "text/plain": [
       "                Price  BHK\n",
       "Area                      \n",
       "Ameerpet        11000    2\n",
       "BHEL            11000    2\n",
       "Kondapur        12000    1\n",
       "Pragathi Nagar  15000    2"
      ]
     },
     "execution_count": 16,
     "metadata": {},
     "output_type": "execute_result"
    }
   ],
   "source": [
    "Property_df3.groupby(by ='Area')['Price','BHK'].mean()"
   ]
  },
  {
   "cell_type": "code",
   "execution_count": 50,
   "metadata": {},
   "outputs": [
    {
     "data": {
      "image/png": "[encoded data removed]",
      "text/plain": [
       "<Figure size 432x288 with 1 Axes>"
      ]
     },
     "metadata": {
      "needs_background": "light"
     },
     "output_type": "display_data"
    }
   ],
   "source": [
    "sns.barplot(x = Property_df3['Area'], y = Property_df3['Price'], hue = Property_df3['BHK'])\n",
    "plt.xticks(rotation = 90)\n",
    "plt.show()"
   ]
  },
  {
   "cell_type": "markdown",
   "metadata": {},
   "source": [
    "If any Customer have budget of 10,000 - 15,000, he gets home in only Ameerpet, BHEL, Kondapur & Pragathi Nagar and Only 1 & 2 BHK options are available. Pragathi Nagar has higher price compared to others."
   ]
  },
  {
   "cell_type": "code",
   "execution_count": 51,
   "metadata": {},
   "outputs": [],
   "source": [
    "#For Rich Customer(3,4,5 BHK)\n",
    "\n",
    "Property_df4 = Property_df.loc[(Property_df['Price'] >= 40000) & (Property_df['BHK']>= 3)]"
   ]
  },
  {
   "cell_type": "code",
   "execution_count": 56,
   "metadata": {},
   "outputs": [
    {
     "data": {
      "image/png": "[encoded data removed]",
      "text/plain": [
       "<Figure size 432x288 with 1 Axes>"
      ]
     },
     "metadata": {
      "needs_background": "light"
     },
     "output_type": "display_data"
    }
   ],
   "source": [
    "sns.barplot(x = Property_df4['Area'], y = Property_df4['Price'], hue = Property_df4['BHK'],ci = None)\n",
    "plt.xticks(rotation = 90)\n",
    "plt.show()"
   ]
  },
  {
   "cell_type": "markdown",
   "metadata": {},
   "source": [
    "If any customer have healthy budget of 40,000Rs or more, he have get variety of 3,4,5 BHK homes in Madhapur, Kokapet, Gandipet, Puppalaguda, Hitech City and Lanco Hills.Price of 3BHK homes are higher in Hitech City and 4BHK in Lanco Hills. While Kokapet and Gandipet have cheapest 3BHK homes among them. 5BHK homes are available only in Madhapur"
   ]
  },
  {
   "cell_type": "code",
   "execution_count": 43,
   "metadata": {},
   "outputs": [],
   "source": [
    "#From Owner\n",
    "\n",
    "Property_df5 = Property_df.loc[(Property_df['DealerType']=='Owner')]"
   ]
  },
  {
   "cell_type": "code",
   "execution_count": 51,
   "metadata": {},
   "outputs": [
    {
     "data": {
      "image/png": "[encoded data removed]",
      "text/plain": [
       "<Figure size 432x288 with 1 Axes>"
      ]
     },
     "metadata": {
      "needs_background": "light"
     },
     "output_type": "display_data"
    }
   ],
   "source": [
    "sns.barplot(x = Property_df5['Area'], y = Property_df5['Price'], hue = Property_df5['BHK'])\n",
    "plt.xticks(rotation = 90)\n",
    "plt.show()"
   ]
  },
  {
   "cell_type": "markdown",
   "metadata": {},
   "source": [
    "If anyone don't want to pay any charges to agent/dealers or they want to directly rent house through Owner, he may get available in Gachibowli, Kondapur, Madhapur, Kokapet, Pragathi Nagar, BHEL in 2,3 BHK. Madhapur have higher 3BHK homes and BHEL have cheaper 2BHK homes"
   ]
  },
  {
   "cell_type": "markdown",
   "metadata": {},
   "source": [
    "# No Deposit"
   ]
  },
  {
   "cell_type": "code",
   "execution_count": 16,
   "metadata": {},
   "outputs": [],
   "source": [
    "Property_df6 = Property_df.loc[(Property_df['Deposit']=='')]"
   ]
  },
  {
   "cell_type": "code",
   "execution_count": 70,
   "metadata": {},
   "outputs": [
    {
     "data": {
      "image/png": "[encoded data removed]",
      "text/plain": [
       "<Figure size 432x288 with 1 Axes>"
      ]
     },
     "metadata": {
      "needs_background": "light"
     },
     "output_type": "display_data"
    }
   ],
   "source": [
    "sns.barplot(x = Property_df6['Area'], y = Property_df6['Price'], hue = Property_df6['BHK'],ci = None)\n",
    "plt.xticks(rotation = 90)\n",
    "plt.show()"
   ]
  },
  {
   "cell_type": "markdown",
   "metadata": {},
   "source": [
    "If anyone don't want to pay Deposit of homes, he/she may get home in 2,3,4 BHK in Kondapur, Madhapur, BHEL, Ammerpet, Lanco Hills\n"
   ]
  },
  {
   "cell_type": "code",
   "execution_count": 36,
   "metadata": {},
   "outputs": [],
   "source": [
    "#Area & BHK Specific Data\n",
    "\n",
    "Property_df7 = Property_df.loc[(Property_df['Area']=='Madhapur')&(Property_df['DealerType']=='Owner')]"
   ]
  },
  {
   "cell_type": "code",
   "execution_count": 41,
   "metadata": {},
   "outputs": [
    {
     "data": {
      "image/png": "[encoded data removed]",
      "text/plain": [
       "<Figure size 432x288 with 1 Axes>"
      ]
     },
     "metadata": {
      "needs_background": "light"
     },
     "output_type": "display_data"
    }
   ],
   "source": [
    "sns.barplot(x = Property_df7['Area'], y = Property_df7['Price'], data = Property_df7, )\n",
    "plt.xticks(rotation = 90)\n",
    "plt.show()"
   ]
  },
  {
   "cell_type": "markdown",
   "metadata": {},
   "source": [
    "If someone wants home in Madhapur directly through owner, he/she will get around price for 50,000Rs."
   ]
  },
  {
   "cell_type": "code",
   "execution_count": 30,
   "metadata": {},
   "outputs": [],
   "source": [
    "#Area & BHK Specific Data\n",
    "#For Women , Residential Apartment, Area : 'Gachibowli','Puppalaguda'\n",
    "\n",
    "Property_df7 = Property_df.loc[(Property_df['Area'].isin(['Gachibowli','Puppalaguda']))&(Property_df['Type']=='Residential Apartment')& (Property_df['Tenants_Preffered']=='WOMEN')]"
   ]
  },
  {
   "cell_type": "code",
   "execution_count": 31,
   "metadata": {},
   "outputs": [
    {
     "data": {
      "text/html": [
       "<div>\n",
       "<style scoped>\n",
       "    .dataframe tbody tr th:only-of-type {\n",
       "        vertical-align: middle;\n",
       "    }\n",
       "\n",
       "    .dataframe tbody tr th {\n",
       "        vertical-align: top;\n",
       "    }\n",
       "\n",
       "    .dataframe thead th {\n",
       "        text-align: right;\n",
       "    }\n",
       "</style>\n",
       "<table border=\"1\" class=\"dataframe\">\n",
       "  <thead>\n",
       "    <tr style=\"text-align: right;\">\n",
       "      <th></th>\n",
       "      <th>Price</th>\n",
       "      <th>BHK</th>\n",
       "    </tr>\n",
       "    <tr>\n",
       "      <th>Area</th>\n",
       "      <th></th>\n",
       "      <th></th>\n",
       "    </tr>\n",
       "  </thead>\n",
       "  <tbody>\n",
       "    <tr>\n",
       "      <th>Gachibowli</th>\n",
       "      <td>28000</td>\n",
       "      <td>3</td>\n",
       "    </tr>\n",
       "    <tr>\n",
       "      <th>Puppalaguda</th>\n",
       "      <td>42000</td>\n",
       "      <td>3</td>\n",
       "    </tr>\n",
       "  </tbody>\n",
       "</table>\n",
       "</div>"
      ],
      "text/plain": [
       "             Price  BHK\n",
       "Area                   \n",
       "Gachibowli   28000    3\n",
       "Puppalaguda  42000    3"
      ]
     },
     "execution_count": 31,
     "metadata": {},
     "output_type": "execute_result"
    }
   ],
   "source": [
    "Property_df7.groupby(by='Area')['Price','BHK'].mean()"
   ]
  },
  {
   "cell_type": "code",
   "execution_count": 53,
   "metadata": {},
   "outputs": [
    {
     "data": {
      "image/png": "[encoded data removed]",
      "text/plain": [
       "<Figure size 432x288 with 1 Axes>"
      ]
     },
     "metadata": {
      "needs_background": "light"
     },
     "output_type": "display_data"
    }
   ],
   "source": [
    "sns.barplot(x = Property_df7['Area'], y = Property_df7['Price'], hue = Property_df7['BHK'])\n",
    "plt.xticks(rotation = 90)\n",
    "plt.show()"
   ]
  },
  {
   "cell_type": "markdown",
   "metadata": {},
   "source": [
    "If some Women wants  home in Residential Apartment, she will get in Gachbowli and Puppalaguda in 3BHK only. Pupalaguda prices are very higher as compared to Gachibowli"
   ]
  },
  {
   "cell_type": "markdown",
   "metadata": {},
   "source": [
    "### Prices of 3 BHK Homes in Different Areas"
   ]
  },
  {
   "cell_type": "code",
   "execution_count": 55,
   "metadata": {},
   "outputs": [],
   "source": [
    "Property_df8 = Property_df.loc[Property_df['BHK'] == 3]"
   ]
  },
  {
   "cell_type": "code",
   "execution_count": 27,
   "metadata": {},
   "outputs": [
    {
     "data": {
      "text/plain": [
       "Area\n",
       "Pragathi Nagar    26000.000000\n",
       "RTO Office        30000.000000\n",
       "Kondapur          31500.000000\n",
       "Appa Junction     32000.000000\n",
       "Gachibowli        33000.000000\n",
       "Kokapet           33333.333333\n",
       "Gandipet          40000.000000\n",
       "Puppalaguda       42000.000000\n",
       "Madhapur          50000.000000\n",
       "Hitech City       73500.000000\n",
       "Name: Price, dtype: float64"
      ]
     },
     "execution_count": 27,
     "metadata": {},
     "output_type": "execute_result"
    }
   ],
   "source": [
    "Property_df8.groupby(by ='Area')['Price'].mean().sort_values(ascending = True)"
   ]
  },
  {
   "cell_type": "code",
   "execution_count": 57,
   "metadata": {},
   "outputs": [
    {
     "data": {
      "image/png": "[encoded data removed]",
      "text/plain": [
       "<Figure size 720x720 with 1 Axes>"
      ]
     },
     "metadata": {
      "needs_background": "light"
     },
     "output_type": "display_data"
    }
   ],
   "source": [
    "plt.figure(figsize = (10,10))\n",
    "sns.boxplot(x = Property_df8['Area'], y = Property_df8['Price']).set_title('Prices of 3 BHK Homes in Different Areas')\n",
    "plt.xticks(rotation = 90)\n",
    "plt.show()"
   ]
  },
  {
   "cell_type": "markdown",
   "metadata": {},
   "source": [
    "If someone want 3BHK houses in Hyderabad, he will get in Pragathi Nagar, RTO Office, Kondapur, Appa Junction, Gachibowli, Kokapet, Gandipet, Puppalaguda, Madhapur, Hitech City. Hitech City and Madhapur have very high Prices as compared to Others."
   ]
  },
  {
   "cell_type": "markdown",
   "metadata": {},
   "source": [
    "## Conclusion"
   ]
  },
  {
   "cell_type": "markdown",
   "metadata": {},
   "source": [
    "* There is larger Availability of 2,3 and 4 BHK Homes as compared to 1 & 5 BHK which are Area Specific."
   ]
  },
  {
   "cell_type": "markdown",
   "metadata": {},
   "source": [
    "* Range of Available Prices of Homes is between 10K to 50K due to larger middle class customer"
   ]
  },
  {
   "cell_type": "markdown",
   "metadata": {},
   "source": [
    "* There is Strong Corelation between Price and Area per sq.m. of Homes"
   ]
  },
  {
   "cell_type": "markdown",
   "metadata": {},
   "source": [
    "* Prices of 2 BHK Homes are very higher in Gowlidoddy and Pragathi Nagar as compared to Ameerpet and BHEL"
   ]
  },
  {
   "cell_type": "markdown",
   "metadata": {},
   "source": [
    "* Ratio of Price and Area per Sq.M.  is higher in Gowlidoddy and lower in BHEL and Ammerpet for 2 BHK"
   ]
  },
  {
   "cell_type": "markdown",
   "metadata": {},
   "source": [
    "* Three types of Home available: Independent House, Independent Builder, Residential Apartment, in which Independent House are more expensive compared to others."
   ]
  },
  {
   "cell_type": "markdown",
   "metadata": {},
   "source": [
    "* There are only Two Areas where Women only Rent facility available: Gachibowli and Puppalaguda"
   ]
  },
  {
   "cell_type": "markdown",
   "metadata": {},
   "source": [
    "* If any Customer have budget of 10,000 - 15,000, he gets home in only Ameerpet, BHEL, Kondapur & Pragathi Nagar in 1 & 2 BHK options. Pragathi Nagar has higher price compared to others."
   ]
  },
  {
   "cell_type": "markdown",
   "metadata": {},
   "source": [
    "* If any Customer have  budget greater than 40,000Rs, He will 3,4,5 BHK homes in Madhapur, Kokapet, Gandipet, Puppalaguda, Hitech City and Lanco Hills.Price of 3BHK homes are higher in Hitech City and 4BHK in Lanco Hills. While Kokapet and Gandipet have cheapest 3BHK homes among them. 5BHK homes are available only in Madhapur "
   ]
  },
  {
   "cell_type": "markdown",
   "metadata": {},
   "source": [
    "* If anyone want directly rent house through Owner, he may get available in Gachibowli, Kondapur, Madhapur, Kokapet, Pragathi Nagar, BHEL in 2,3 BHK. Madhapur have higher 3BHK homes and BHEL have cheaper 2BHK homes"
   ]
  },
  {
   "cell_type": "markdown",
   "metadata": {},
   "source": [
    "* If anyone don't want to pay Deposit of homes, he/she may get home in 2,3,4 BHK in Kondapur, Madhapur, BHEL, Ammerpet, Lanco Hills\n"
   ]
  },
  {
   "cell_type": "markdown",
   "metadata": {},
   "source": [
    "* 3BHK houses in Hyderabad are available in Pragathi Nagar, RTO Office, Kondapur, Appa Junction, Gachibowli, Kokapet, Gandipet, Puppalaguda, Madhapur, Hitech City Area.  \n",
    "Price range varies from 25k to 85k.   \n",
    "Hitech City and Madhapur have very high Prices as compared to Others."
   ]
  },
  {
   "cell_type": "code",
   "execution_count": null,
   "metadata": {},
   "outputs": [],
   "source": []
  }
 ],
 "metadata": {
  "kernelspec": {
   "display_name": "Python 3 (ipykernel)",
   "language": "python",
   "name": "python3"
  },
  "language_info": {
   "codemirror_mode": {
    "name": "ipython",
    "version": 3
   },
   "file_extension": ".py",
   "mimetype": "text/x-python",
   "name": "python",
   "nbconvert_exporter": "python",
   "pygments_lexer": "ipython3",
   "version": "3.9.7"
  }
 },
 "nbformat": 4,
 "nbformat_minor": 4
}
